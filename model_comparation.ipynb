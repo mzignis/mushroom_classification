{
 "cells": [
  {
   "cell_type": "code",
   "execution_count": 20,
   "metadata": {},
   "outputs": [],
   "source": [
    "import matplotlib.pyplot as plt\n",
    "import numpy as np\n",
    "import pandas as pd\n",
    "import scipy\n",
    "\n",
    "from sklearn.preprocessing import LabelEncoder, OneHotEncoder\n",
    "from sklearn.model_selection import train_test_split, cross_val_predict\n",
    "from sklearn.metrics import f1_score, precision_score, recall_score, confusion_matrix\n",
    "from sklearn.metrics import precision_recall_curve\n",
    "\n",
    "from sklearn.svm import LinearSVC, SVC\n",
    "from sklearn.neighbors import KNeighborsClassifier\n",
    "from sklearn.dummy import DummyClassifier\n",
    "from sklearn.ensemble import RandomForestClassifier\n",
    "\n",
    "import warnings\n",
    "\n",
    "warnings.filterwarnings('ignore')"
   ]
  },
  {
   "cell_type": "code",
   "execution_count": 2,
   "metadata": {},
   "outputs": [
    {
     "name": "stdout",
     "output_type": "stream",
     "text": [
      "(8124, 22) (8124,)\n"
     ]
    }
   ],
   "source": [
    "def load_data_from_csv(csv_filepath):\n",
    "    df = pd.read_csv(csv_filepath)\n",
    "    X, y = df.loc[:, df.columns != 'class'].values, df['class'].values\n",
    "    return X, y\n",
    "    \n",
    " \n",
    "X, y = load_data_from_csv('data/mushrooms.csv')\n",
    "print(X.shape, y.shape)"
   ]
  },
  {
   "cell_type": "code",
   "execution_count": 3,
   "metadata": {},
   "outputs": [
    {
     "data": {
      "text/plain": [
       "(8124, 1)"
      ]
     },
     "execution_count": 3,
     "metadata": {},
     "output_type": "execute_result"
    }
   ],
   "source": [
    "def encode_labeled_data(data: np.array):\n",
    "    new_data = data.copy()\n",
    "    for i in range(data.shape[1]):\n",
    "        new_data[:, i] = LabelEncoder().fit_transform(data[:, i])\n",
    "    return new_data\n",
    "\n",
    "encode_labeled_data(y.reshape(-1, 1)).shape"
   ]
  },
  {
   "cell_type": "code",
   "execution_count": 4,
   "metadata": {},
   "outputs": [
    {
     "data": {
      "text/plain": [
       "<8124x117 sparse matrix of type '<class 'numpy.float64'>'\n",
       "\twith 178728 stored elements in COOrdinate format>"
      ]
     },
     "execution_count": 4,
     "metadata": {},
     "output_type": "execute_result"
    }
   ],
   "source": [
    "def one_hot_encode_labeled_data(data: np.array):\n",
    "    new_data = None\n",
    "    for i in range(data.shape[1]):\n",
    "        encoder = OneHotEncoder()\n",
    "        new_values = encoder.fit_transform(data[:, i].reshape(-1, 1))\n",
    "        if new_data is None:\n",
    "            new_data = new_values\n",
    "        else:\n",
    "            new_data = scipy.sparse.hstack([new_data, new_values])\n",
    "    return new_data\n",
    "\n",
    "one_hot_encode_labeled_data(X)"
   ]
  },
  {
   "cell_type": "code",
   "execution_count": 5,
   "metadata": {},
   "outputs": [
    {
     "data": {
      "text/plain": [
       "((6093, 5), (2031, 5), (6093,), (2031,))"
      ]
     },
     "execution_count": 5,
     "metadata": {},
     "output_type": "execute_result"
    }
   ],
   "source": [
    "def prepare_data(X: np.array, y: np.array, one_hot_encode=True):\n",
    "    if one_hot_encode:\n",
    "        new_X = one_hot_encode_labeled_data(X)\n",
    "    else:\n",
    "        new_X = encode_labeled_data(X)\n",
    "    new_y = encode_labeled_data(y.reshape(-1, 1))\n",
    "    \n",
    "    new_X_train, new_X_test, new_y_train, new_y_test = train_test_split(new_X, new_y)\n",
    "    \n",
    "    new_Xs = new_X_train.astype(int), new_X_test.astype(int)\n",
    "    new_ys = new_y_train.astype(int).ravel(), new_y_test.astype(int).ravel()\n",
    "    \n",
    "    return new_Xs, new_ys \n",
    "\n",
    "(X_train, X_test), (y_train, y_test) = prepare_data(X[:, :5], y, one_hot_encode=False)\n",
    "X_train.shape, X_test.shape, y_train.shape, y_test.shape"
   ]
  },
  {
   "cell_type": "code",
   "execution_count": 6,
   "metadata": {},
   "outputs": [
    {
     "data": {
      "text/plain": [
       "(array([0, 0, 1, ..., 0, 1, 0]), array([0, 0, 1, ..., 0, 1, 0]))"
      ]
     },
     "execution_count": 6,
     "metadata": {},
     "output_type": "execute_result"
    }
   ],
   "source": [
    "y_train, y_train"
   ]
  },
  {
   "cell_type": "code",
   "execution_count": 19,
   "metadata": {},
   "outputs": [
    {
     "name": "stdout",
     "output_type": "stream",
     "text": [
      "======== TRAINING SET ========\n",
      "Train confusion matrix:\n",
      "[[1605 1550]\n",
      " [1526 1412]]\n",
      "\n",
      "Precision: 0.477\n",
      "Recall:    0.477\n",
      "F1 score:  0.477\n",
      "\n",
      "\n",
      "======== TEST SET ========\n",
      "Test confusion matrix:\n",
      "[[522 531]\n",
      " [506 472]]\n",
      "\n",
      "Precision: 0.471\n",
      "Recall:    0.471\n",
      "F1 score:  0.471\n"
     ]
    }
   ],
   "source": [
    "def score_model(model):\n",
    "    model.fit(X_train, y_train)\n",
    "\n",
    "    y_train_predict = cross_val_predict(model, X_train, y_train, cv=3)\n",
    "    y_test_predict = cross_val_predict(model, X_test, y_test, cv=3)\n",
    "\n",
    "    print('======== TRAINING SET ========')\n",
    "\n",
    "    print('Train confusion matrix:')\n",
    "    print(confusion_matrix(y_train, y_train_predict))\n",
    "    print()\n",
    "\n",
    "    print(f'Precision: {precision_score(y_train, y_train_predict):.3f}')\n",
    "    print(f'Recall:    {precision_score(y_train, y_train_predict):.3f}')\n",
    "    print(f'F1 score:  {precision_score(y_train, y_train_predict):.3f}')\n",
    "    print()\n",
    "    print()\n",
    "\n",
    "    print('======== TEST SET ========')\n",
    "\n",
    "    print('Test confusion matrix:')\n",
    "    print(confusion_matrix(y_test, y_test_predict))\n",
    "    print()\n",
    "\n",
    "    print(f'Precision: {precision_score(y_test, y_test_predict):.3f}')\n",
    "    print(f'Recall:    {precision_score(y_test, y_test_predict):.3f}')\n",
    "    print(f'F1 score:  {precision_score(y_test, y_test_predict):.3f}')\n",
    "\n",
    "\n",
    "score_model(DummyClassifier())"
   ]
  },
  {
   "cell_type": "code",
   "execution_count": 21,
   "metadata": {},
   "outputs": [
    {
     "name": "stdout",
     "output_type": "stream",
     "text": [
      "======== TRAINING SET ========\n",
      "Train confusion matrix:\n",
      "[[2291  864]\n",
      " [ 481 2457]]\n",
      "\n",
      "Precision: 0.740\n",
      "Recall:    0.740\n",
      "F1 score:  0.740\n",
      "\n",
      "\n",
      "======== TEST SET ========\n",
      "Test confusion matrix:\n",
      "[[775 278]\n",
      " [156 822]]\n",
      "\n",
      "Precision: 0.747\n",
      "Recall:    0.747\n",
      "F1 score:  0.747\n"
     ]
    }
   ],
   "source": [
    "model = LinearSVC()\n",
    "score_model(model)"
   ]
  },
  {
   "cell_type": "code",
   "execution_count": 22,
   "metadata": {},
   "outputs": [
    {
     "name": "stdout",
     "output_type": "stream",
     "text": [
      "======== TRAINING SET ========\n",
      "Train confusion matrix:\n",
      "[[3145   10]\n",
      " [  53 2885]]\n",
      "\n",
      "Precision: 0.997\n",
      "Recall:    0.997\n",
      "F1 score:  0.997\n",
      "\n",
      "\n",
      "======== TEST SET ========\n",
      "Test confusion matrix:\n",
      "[[1030   23]\n",
      " [  31  947]]\n",
      "\n",
      "Precision: 0.976\n",
      "Recall:    0.976\n",
      "F1 score:  0.976\n"
     ]
    }
   ],
   "source": [
    "model = KNeighborsClassifier()\n",
    "score_model(model)"
   ]
  },
  {
   "cell_type": "code",
   "execution_count": 24,
   "metadata": {},
   "outputs": [
    {
     "name": "stdout",
     "output_type": "stream",
     "text": [
      "======== TRAINING SET ========\n",
      "Train confusion matrix:\n",
      "[[3139   16]\n",
      " [ 190 2748]]\n",
      "\n",
      "Precision: 0.994\n",
      "Recall:    0.994\n",
      "F1 score:  0.994\n",
      "\n",
      "\n",
      "======== TEST SET ========\n",
      "Test confusion matrix:\n",
      "[[1038   15]\n",
      " [ 107  871]]\n",
      "\n",
      "Precision: 0.983\n",
      "Recall:    0.983\n",
      "F1 score:  0.983\n"
     ]
    }
   ],
   "source": [
    "model = SVC()\n",
    "score_model(model)"
   ]
  },
  {
   "cell_type": "code",
   "execution_count": 25,
   "metadata": {},
   "outputs": [
    {
     "name": "stdout",
     "output_type": "stream",
     "text": [
      "======== TRAINING SET ========\n",
      "Train confusion matrix:\n",
      "[[3151    4]\n",
      " [  25 2913]]\n",
      "\n",
      "Precision: 0.999\n",
      "Recall:    0.999\n",
      "F1 score:  0.999\n",
      "\n",
      "\n",
      "======== TEST SET ========\n",
      "Test confusion matrix:\n",
      "[[1045    8]\n",
      " [  15  963]]\n",
      "\n",
      "Precision: 0.992\n",
      "Recall:    0.992\n",
      "F1 score:  0.992\n"
     ]
    }
   ],
   "source": [
    "model = RandomForestClassifier()\n",
    "score_model(model)"
   ]
  },
  {
   "cell_type": "code",
   "execution_count": null,
   "metadata": {},
   "outputs": [],
   "source": []
  }
 ],
 "metadata": {
  "kernelspec": {
   "display_name": "Python 3.7.4 64-bit ('venv': venv)",
   "language": "python",
   "name": "python37464bitvenvvenvd6d75cfc589e4d39a06163050527ae64"
  },
  "language_info": {
   "codemirror_mode": {
    "name": "ipython",
    "version": 3
   },
   "file_extension": ".py",
   "mimetype": "text/x-python",
   "name": "python",
   "nbconvert_exporter": "python",
   "pygments_lexer": "ipython3",
   "version": "3.7.4"
  }
 },
 "nbformat": 4,
 "nbformat_minor": 4
}
