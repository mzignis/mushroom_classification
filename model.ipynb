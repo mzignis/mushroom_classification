{
 "cells": [
  {
   "cell_type": "code",
   "execution_count": 48,
   "metadata": {},
   "outputs": [],
   "source": [
    "from collections import OrderedDict\n",
    "\n",
    "import matplotlib.pyplot as plt\n",
    "import numpy as np\n",
    "import pandas as pd\n",
    "\n",
    "from sklearn.model_selection import train_test_split, cross_val_score, cross_val_predict\n",
    "from sklearn.ensemble import RandomForestClassifier\n",
    "from sklearn.metrics import confusion_matrix, precision_score, recall_score, f1_score\n"
   ]
  },
  {
   "cell_type": "code",
   "execution_count": 4,
   "metadata": {},
   "outputs": [
    {
     "data": {
      "text/plain": [
       "(8124, 117)"
      ]
     },
     "execution_count": 4,
     "metadata": {},
     "output_type": "execute_result"
    }
   ],
   "source": [
    "X = pd.read_pickle('data/new_X.p')\n",
    "X.shape"
   ]
  },
  {
   "cell_type": "code",
   "execution_count": 5,
   "metadata": {},
   "outputs": [
    {
     "data": {
      "text/plain": [
       "(8124,)"
      ]
     },
     "execution_count": 5,
     "metadata": {},
     "output_type": "execute_result"
    }
   ],
   "source": [
    "y = pd.read_pickle('data/new_y.p')\n",
    "y.shape"
   ]
  },
  {
   "cell_type": "code",
   "execution_count": 7,
   "metadata": {},
   "outputs": [],
   "source": [
    "columns_name = pd.read_pickle('data/columns.p')"
   ]
  },
  {
   "cell_type": "code",
   "execution_count": 9,
   "metadata": {},
   "outputs": [],
   "source": [
    "X_train, X_test, y_train, y_test = train_test_split(X, y)"
   ]
  },
  {
   "cell_type": "code",
   "execution_count": 13,
   "metadata": {},
   "outputs": [
    {
     "data": {
      "text/plain": [
       "RandomForestClassifier()"
      ]
     },
     "execution_count": 13,
     "metadata": {},
     "output_type": "execute_result"
    }
   ],
   "source": [
    "model = RandomForestClassifier()\n",
    "model.fit(X_train, y_train)"
   ]
  },
  {
   "cell_type": "markdown",
   "metadata": {},
   "source": [
    "### Scoring for train set"
   ]
  },
  {
   "cell_type": "code",
   "execution_count": 21,
   "metadata": {},
   "outputs": [
    {
     "data": {
      "text/plain": [
       "array([1., 1., 1.])"
      ]
     },
     "execution_count": 21,
     "metadata": {},
     "output_type": "execute_result"
    }
   ],
   "source": [
    "cross_val_score(model, X_train, y_train, cv=3, scoring='accuracy')"
   ]
  },
  {
   "cell_type": "code",
   "execution_count": 25,
   "metadata": {},
   "outputs": [
    {
     "data": {
      "text/plain": [
       "array([1, 1, 1, ..., 1, 0, 1])"
      ]
     },
     "execution_count": 25,
     "metadata": {},
     "output_type": "execute_result"
    }
   ],
   "source": [
    "y_train_pred = cross_val_predict(model, X_train, y_train, cv=3)\n",
    "y_train_pred"
   ]
  },
  {
   "cell_type": "code",
   "execution_count": 28,
   "metadata": {},
   "outputs": [
    {
     "data": {
      "text/plain": [
       "array([[3176,    0],\n",
       "       [   0, 2917]])"
      ]
     },
     "execution_count": 28,
     "metadata": {},
     "output_type": "execute_result"
    }
   ],
   "source": [
    "confusion_matrix(y_train, y_train_pred)"
   ]
  },
  {
   "cell_type": "code",
   "execution_count": 31,
   "metadata": {},
   "outputs": [
    {
     "data": {
      "text/plain": [
       "1.0"
      ]
     },
     "execution_count": 31,
     "metadata": {},
     "output_type": "execute_result"
    }
   ],
   "source": [
    "precision_score(y_train, y_train_pred)"
   ]
  },
  {
   "cell_type": "code",
   "execution_count": 32,
   "metadata": {},
   "outputs": [
    {
     "data": {
      "text/plain": [
       "1.0"
      ]
     },
     "execution_count": 32,
     "metadata": {},
     "output_type": "execute_result"
    }
   ],
   "source": [
    "recall_score(y_train, y_train_pred)"
   ]
  },
  {
   "cell_type": "code",
   "execution_count": 37,
   "metadata": {},
   "outputs": [
    {
     "data": {
      "text/plain": [
       "1.0"
      ]
     },
     "execution_count": 37,
     "metadata": {},
     "output_type": "execute_result"
    }
   ],
   "source": [
    "f1_score(y_train, y_train_pred)"
   ]
  },
  {
   "cell_type": "markdown",
   "metadata": {},
   "source": [
    "### Scoring for test set"
   ]
  },
  {
   "cell_type": "code",
   "execution_count": 34,
   "metadata": {},
   "outputs": [
    {
     "data": {
      "text/plain": [
       "array([0, 1, 0, ..., 1, 0, 1])"
      ]
     },
     "execution_count": 34,
     "metadata": {},
     "output_type": "execute_result"
    }
   ],
   "source": [
    "y_test_pred = cross_val_predict(model, X_test, y_test, cv=3)\n",
    "y_test_pred"
   ]
  },
  {
   "cell_type": "code",
   "execution_count": 35,
   "metadata": {},
   "outputs": [
    {
     "data": {
      "text/plain": [
       "array([[1032,    0],\n",
       "       [   1,  998]])"
      ]
     },
     "execution_count": 35,
     "metadata": {},
     "output_type": "execute_result"
    }
   ],
   "source": [
    "confusion_matrix(y_test, y_test_pred)"
   ]
  },
  {
   "cell_type": "code",
   "execution_count": 38,
   "metadata": {},
   "outputs": [
    {
     "data": {
      "text/plain": [
       "1.0"
      ]
     },
     "execution_count": 38,
     "metadata": {},
     "output_type": "execute_result"
    }
   ],
   "source": [
    "precision_score(y_test, y_test_pred)"
   ]
  },
  {
   "cell_type": "code",
   "execution_count": 39,
   "metadata": {},
   "outputs": [
    {
     "data": {
      "text/plain": [
       "0.998998998998999"
      ]
     },
     "execution_count": 39,
     "metadata": {},
     "output_type": "execute_result"
    }
   ],
   "source": [
    "recall_score(y_test, y_test_pred)"
   ]
  },
  {
   "cell_type": "code",
   "execution_count": 40,
   "metadata": {},
   "outputs": [
    {
     "data": {
      "text/plain": [
       "0.99949924887331"
      ]
     },
     "execution_count": 40,
     "metadata": {},
     "output_type": "execute_result"
    }
   ],
   "source": [
    "f1_score(y_test, y_test_pred)"
   ]
  },
  {
   "cell_type": "markdown",
   "metadata": {},
   "source": [
    "### Features importance"
   ]
  },
  {
   "cell_type": "code",
   "execution_count": 47,
   "metadata": {},
   "outputs": [],
   "source": [
    "feature_importance = dict(zip(columns_name, model.feature_importances_))"
   ]
  },
  {
   "cell_type": "code",
   "execution_count": 50,
   "metadata": {},
   "outputs": [
    {
     "data": {
      "text/plain": [
       "OrderedDict([('odor_c', 0.11797534151175547),\n",
       "             ('gill-size_n', 0.07999529153508685),\n",
       "             ('odor_l', 0.07390960178868597),\n",
       "             ('stalk-surface-above-ring_f', 0.0637861139300347),\n",
       "             ('gill-size_b', 0.0636917405176454),\n",
       "             ('spore-print-color_n', 0.042725015345862406),\n",
       "             ('gill-color_k', 0.03351220125808997),\n",
       "             ('ring-type_n', 0.03337968206208832),\n",
       "             ('stalk-surface-below-ring_f', 0.030635498809359698),\n",
       "             ('bruises_f', 0.025898363598337755),\n",
       "             ('stalk-surface-above-ring_k', 0.02234077022848767),\n",
       "             ('ring-type_l', 0.02178072838662492),\n",
       "             ('bruises_t', 0.018976445656140456),\n",
       "             ('gill-spacing_w', 0.0181886475074377),\n",
       "             ('stalk-shape_e', 0.01784855556712227),\n",
       "             ('population_y', 0.0156571675911134),\n",
       "             ('gill-spacing_c', 0.015507297769742898),\n",
       "             ('stalk-root_c', 0.015485573800078442),\n",
       "             ('spore-print-color_y', 0.015064738835053635),\n",
       "             ('odor_y', 0.013014238867346324),\n",
       "             ('habitat_w', 0.01287277601626288),\n",
       "             ('stalk-surface-below-ring_y', 0.011656780827688982),\n",
       "             ('odor_a', 0.010723414950487314),\n",
       "             ('stalk-root_e', 0.010476219369951864),\n",
       "             ('spore-print-color_r', 0.010003567083376108),\n",
       "             ('ring-type_p', 0.009023211730182798),\n",
       "             ('stalk-root_b', 0.008286649770735626),\n",
       "             ('spore-print-color_h', 0.008282548287302658),\n",
       "             ('stalk-shape_t', 0.008116411071434968),\n",
       "             ('ring-number_n', 0.00778934617085202),\n",
       "             ('stalk-root_r', 0.007643857113576494),\n",
       "             ('spore-print-color_u', 0.007581040804560618),\n",
       "             ('stalk-surface-below-ring_s', 0.007435165918845545),\n",
       "             ('stalk-color-above-ring_c', 0.006704408741253622),\n",
       "             ('odor_n', 0.006680977318461064),\n",
       "             ('odor_p', 0.006459458725782545),\n",
       "             ('cap-surface_f', 0.006422026756209775),\n",
       "             ('stalk-color-below-ring_o', 0.005541765611331395),\n",
       "             ('population_v', 0.005258087828928981),\n",
       "             ('habitat_u', 0.0049896463422059835),\n",
       "             ('cap-surface_s', 0.00473113316262486),\n",
       "             ('stalk-color-above-ring_b', 0.004519366554493958),\n",
       "             ('ring-number_t', 0.004506547854524439),\n",
       "             ('habitat_g', 0.004323441411949587),\n",
       "             ('habitat_d', 0.004179103970721453),\n",
       "             ('population_c', 0.00371495876313976),\n",
       "             ('stalk-surface-above-ring_s', 0.003697164724021614),\n",
       "             ('stalk-color-below-ring_n', 0.0033773636049707818),\n",
       "             ('habitat_p', 0.003364194917827583),\n",
       "             ('odor_s', 0.003077824881048015),\n",
       "             ('stalk-surface-below-ring_k', 0.003050501699880144),\n",
       "             ('stalk-color-below-ring_y', 0.002757802319475391),\n",
       "             ('cap-color_r', 0.0026502437280233387),\n",
       "             ('cap-color_n', 0.002565831948387685),\n",
       "             ('cap-shape_x', 0.0023845170358856027),\n",
       "             ('population_a', 0.002015735214209485),\n",
       "             ('cap-surface_g', 0.0019067249610645125),\n",
       "             ('ring-type_e', 0.0019066812702569107),\n",
       "             ('cap-color_c', 0.0018929385272723053),\n",
       "             ('stalk-color-above-ring_o', 0.0017619106666137687),\n",
       "             ('cap-color_e', 0.0017222654116471141),\n",
       "             ('gill-color_b', 0.0016771334457039086),\n",
       "             ('cap-color_g', 0.0016385024697446052),\n",
       "             ('cap-color_p', 0.0015233298342591942),\n",
       "             ('spore-print-color_o', 0.00150066657141086),\n",
       "             ('population_n', 0.0014710440070512662),\n",
       "             ('gill-color_y', 0.0014677756472109165),\n",
       "             ('cap-shape_s', 0.0014294974460253747),\n",
       "             ('stalk-root_?', 0.0013640863197386152),\n",
       "             ('stalk-color-below-ring_e', 0.0012648579644528694),\n",
       "             ('stalk-color-below-ring_w', 0.001220263089259961),\n",
       "             ('stalk-color-above-ring_w', 0.0012197191806756023),\n",
       "             ('ring-type_f', 0.0011875275229832221),\n",
       "             ('ring-number_o', 0.0011498171227795788),\n",
       "             ('stalk-color-above-ring_g', 0.001110851014521487),\n",
       "             ('stalk-color-below-ring_p', 0.0010649010243840775),\n",
       "             ('gill-color_p', 0.001052682833588274),\n",
       "             ('veil-color_o', 0.0010469750893151025),\n",
       "             ('gill-attachment_a', 0.0009880545490650345),\n",
       "             ('stalk-color-below-ring_c', 0.0009850563889392129),\n",
       "             ('gill-color_r', 0.0009226172262732591),\n",
       "             ('stalk-color-below-ring_b', 0.0008884207539892365),\n",
       "             ('cap-shape_c', 0.0008379303263135066),\n",
       "             ('stalk-color-above-ring_n', 0.0008071877291551347),\n",
       "             ('gill-color_h', 0.0006565927629331149),\n",
       "             ('stalk-color-above-ring_e', 0.0006463223541242889),\n",
       "             ('habitat_m', 0.0006267936531671885),\n",
       "             ('gill-color_g', 0.0004707767781188595),\n",
       "             ('habitat_l', 0.00045778913716641457),\n",
       "             ('cap-color_w', 0.0004215427079886929),\n",
       "             ('gill-color_w', 0.0004143585232767946),\n",
       "             ('cap-color_b', 0.0003668599369157765),\n",
       "             ('cap-color_y', 0.00031836722394057323),\n",
       "             ('population_s', 0.0003011264368309669),\n",
       "             ('cap-surface_y', 0.0002832308058633479),\n",
       "             ('gill-color_o', 0.00028173499886987593),\n",
       "             ('stalk-surface-above-ring_y', 0.0002649331991276918),\n",
       "             ('veil-color_y', 0.00020489287136204743),\n",
       "             ('stalk-color-above-ring_y', 0.00020481933832100816),\n",
       "             ('cap-shape_k', 0.0001937308866364832),\n",
       "             ('cap-shape_b', 0.00016634068285905856),\n",
       "             ('odor_f', 0.0001588897462866898),\n",
       "             ('gill-color_e', 0.00015676838025638828),\n",
       "             ('gill-attachment_f', 8.518989090051909e-05),\n",
       "             ('cap-color_u', 4.945078223569421e-05),\n",
       "             ('cap-shape_f', 1.2284524475925053e-05),\n",
       "             ('gill-color_u', 4.736355394974192e-06),\n",
       "             ('spore-print-color_k', 2.8821539804228482e-06),\n",
       "             ('stalk-color-above-ring_p', 2.6409988861076462e-06),\n",
       "             ('odor_m', 8.50559616634269e-07),\n",
       "             ('stalk-color-below-ring_g', 2.691288176936473e-07),\n",
       "             ('veil-color_w', 2.470232119299273e-07),\n",
       "             ('gill-color_n', 5.296803080048302e-08),\n",
       "             ('veil-type_p', 0.0),\n",
       "             ('veil-color_n', 0.0),\n",
       "             ('spore-print-color_w', 0.0),\n",
       "             ('spore-print-color_b', 0.0)])"
      ]
     },
     "execution_count": 50,
     "metadata": {},
     "output_type": "execute_result"
    }
   ],
   "source": [
    "sorted_feature_importance = OrderedDict(sorted(\n",
    "    feature_importance.items(), \n",
    "    key=lambda kv: kv[1],\n",
    "    reverse=True\n",
    "))\n",
    "sorted_feature_importance"
   ]
  },
  {
   "cell_type": "code",
   "execution_count": null,
   "metadata": {},
   "outputs": [],
   "source": []
  }
 ],
 "metadata": {
  "kernelspec": {
   "display_name": "Python 3.7.4 64-bit ('venv': venv)",
   "language": "python",
   "name": "python37464bitvenvvenvd6d75cfc589e4d39a06163050527ae64"
  },
  "language_info": {
   "codemirror_mode": {
    "name": "ipython",
    "version": 3
   },
   "file_extension": ".py",
   "mimetype": "text/x-python",
   "name": "python",
   "nbconvert_exporter": "python",
   "pygments_lexer": "ipython3",
   "version": "3.7.4"
  }
 },
 "nbformat": 4,
 "nbformat_minor": 4
}
