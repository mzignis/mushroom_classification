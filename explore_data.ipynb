{
 "cells": [
  {
   "cell_type": "code",
   "execution_count": 1,
   "metadata": {},
   "outputs": [],
   "source": [
    "import pandas as pd\n",
    "import matplotlib.pyplot as plt\n",
    "import numpy as np\n",
    "import scipy\n",
    "\n",
    "from sklearn.preprocessing import LabelEncoder, OneHotEncoder"
   ]
  },
  {
   "cell_type": "code",
   "execution_count": 2,
   "metadata": {},
   "outputs": [
    {
     "output_type": "execute_result",
     "data": {
      "text/plain": "(8124, 23)"
     },
     "metadata": {},
     "execution_count": 2
    }
   ],
   "source": [
    "df = pd.read_csv('data/mushrooms.csv')\n",
    "df.shape"
   ]
  },
  {
   "cell_type": "code",
   "execution_count": 3,
   "metadata": {},
   "outputs": [
    {
     "output_type": "stream",
     "name": "stdout",
     "text": "(8124, 22) (8124,)\n"
    }
   ],
   "source": [
    "X, y = df.loc[:, df.columns != 'class'].values, df['class'].values\n",
    "print(X.shape, y.shape)"
   ]
  },
  {
   "cell_type": "code",
   "execution_count": 4,
   "metadata": {},
   "outputs": [
    {
     "output_type": "execute_result",
     "data": {
      "text/plain": "array(['e', 'p'], dtype=object)"
     },
     "metadata": {},
     "execution_count": 4
    }
   ],
   "source": [
    "y_encoder = LabelEncoder()\n",
    "new_y = y_encoder.fit_transform(y)\n",
    "y_encoder.classes_"
   ]
  },
  {
   "cell_type": "code",
   "execution_count": 5,
   "metadata": {},
   "outputs": [
    {
     "output_type": "execute_result",
     "data": {
      "text/plain": "((8124, 117), 117)"
     },
     "metadata": {},
     "execution_count": 5
    }
   ],
   "source": [
    "new_columns = []\n",
    "new_X = None\n",
    "for column in df.columns:\n",
    "    if column == 'class':\n",
    "        continue\n",
    "    encoder = OneHotEncoder()\n",
    "    new_values = encoder.fit_transform(df[column].values.reshape(-1, 1))\n",
    "    if new_X is None:\n",
    "        new_X = new_values\n",
    "    else:\n",
    "        new_X = scipy.sparse.hstack([new_X, new_values])\n",
    "    new_columns.extend([f'{column}_{x}' for x in df[column].unique()])\n",
    "\n",
    "new_X.shape, len(new_columns)"
   ]
  },
  {
   "cell_type": "code",
   "execution_count": null,
   "metadata": {},
   "outputs": [],
   "source": []
  }
 ],
 "metadata": {
  "language_info": {
   "codemirror_mode": {
    "name": "ipython",
    "version": 3
   },
   "file_extension": ".py",
   "mimetype": "text/x-python",
   "name": "python",
   "nbconvert_exporter": "python",
   "pygments_lexer": "ipython3",
   "version": "3.7.4-final"
  },
  "orig_nbformat": 2,
  "kernelspec": {
   "name": "python37464bitvenvvenvd6d75cfc589e4d39a06163050527ae64",
   "display_name": "Python 3.7.4 64-bit ('venv': venv)"
  }
 },
 "nbformat": 4,
 "nbformat_minor": 2
}